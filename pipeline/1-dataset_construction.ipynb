{
 "cells": [
  {
   "cell_type": "markdown",
   "metadata": {},
   "source": [
    "# Step 1 - Compute train and test datasets"
   ]
  },
  {
   "cell_type": "code",
   "execution_count": 1,
   "metadata": {},
   "outputs": [],
   "source": [
    "from tqdm import tqdm\n",
    "from glob import glob\n",
    "\n",
    "import subprocess\n",
    "import os"
   ]
  },
  {
   "cell_type": "code",
   "execution_count": 2,
   "metadata": {},
   "outputs": [],
   "source": [
    "# static vars\n",
    "BASEDIR = os.path.abspath(\"..\")\n",
    "DATADIR = os.path.join(BASEDIR, \"data\")\n",
    "GENOME = \"/storage_2/mtognon/datasets/genomes/hg38/hg38.fa\""
   ]
  },
  {
   "cell_type": "code",
   "execution_count": null,
   "metadata": {},
   "outputs": [],
   "source": [
    "# retrieve chip-seq datasets\n",
    "chipseqdir = os.path.join(DATADIR, \"chip-seq\")\n",
    "chipseq_datasets = glob(os.path.join(chipseqdir, \"*.bed\"))\n",
    "len(chipseq_datasets)"
   ]
  },
  {
   "cell_type": "code",
   "execution_count": null,
   "metadata": {},
   "outputs": [],
   "source": [
    "# retrieve dnase-seq dataset (Meuleman et al., 2020)\n",
    "dnasedir = os.path.join(DATADIR, \"dnase-seq\")\n",
    "dnase_dataset = glob(os.path.join(dnasedir, \"*.bed\"))[0]\n",
    "dnase_dataset  # ENCFF503GCK"
   ]
  },
  {
   "cell_type": "code",
   "execution_count": null,
   "metadata": {},
   "outputs": [],
   "source": [
    "# create training and testing datasets - shuffle + dnase\n",
    "script = os.path.abspath(\"../src/benchmark/dataset_split.py\")\n",
    "code = subprocess.call(f\"python {script} {chipseqdir} {dnasedir} {GENOME} {DATADIR}\", shell=True)\n",
    "if code != 0:\n",
    "    raise subprocess.SubprocessError(\"An error occurred while computing train and test datasets\")"
   ]
  },
  {
   "cell_type": "code",
   "execution_count": null,
   "metadata": {},
   "outputs": [],
   "source": []
  }
 ],
 "metadata": {
  "kernelspec": {
   "display_name": "tf-pwm-svm-comparison",
   "language": "python",
   "name": "python3"
  },
  "language_info": {
   "codemirror_mode": {
    "name": "ipython",
    "version": 3
   },
   "file_extension": ".py",
   "mimetype": "text/x-python",
   "name": "python",
   "nbconvert_exporter": "python",
   "pygments_lexer": "ipython3",
   "version": "3.8.18"
  }
 },
 "nbformat": 4,
 "nbformat_minor": 2
}
